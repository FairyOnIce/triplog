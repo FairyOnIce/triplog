{
 "cells": [
  {
   "cell_type": "code",
   "execution_count": 1,
   "metadata": {
    "collapsed": true
   },
   "outputs": [],
   "source": [
    "import numpy as np \n",
    "import os\n",
    "import fastkml\n",
    "import pandas as pd \n",
    "dir_move = \"../gps/data/\""
   ]
  },
  {
   "cell_type": "code",
   "execution_count": 2,
   "metadata": {
    "collapsed": true
   },
   "outputs": [],
   "source": [
    "kmls = list(np.sort([kml for kml in os.listdir(dir_move) if \"kml\" in kml]))"
   ]
  },
  {
   "cell_type": "code",
   "execution_count": null,
   "metadata": {
    "collapsed": true
   },
   "outputs": [],
   "source": [
    "def get_coordinates(path_kml):\n",
    "    '''\n",
    "    extract lat, lon, altitude info from the kml data\n",
    "    '''\n",
    "    doc = open(path_kml, 'rb+').read()\n",
    "    k = fastkml.KML()\n",
    "    k.from_string(doc)\n",
    "    kmlstr = k.to_string()\n",
    "    coordstr = kmlstr.split(\"<coordinates>\")[1].split(\"</coordinates>\")[0]\n",
    "    coordlst = coordstr.split(\" \")\n",
    "    l = []\n",
    "    for point in coordlst:\n",
    "        pointlst = point.split(\",\")\n",
    "        l.append(pointlst)\n",
    "    df = pd.DataFrame(l,columns = [\"lon\",\"lat\",\"altitude\"])\n",
    "    for col in df.columns:\n",
    "        df[col] = pd.to_numeric(df[col], errors='coerce')\n",
    "    return(df)\n",
    "\n",
    "def get_rolling_average(vec, k=5):\n",
    "    rvec = np.zeros(len(vec))\n",
    "    for t in range(len(vec)):\n",
    "        start = np.max([t - k,0])\n",
    "        end   = np.min([t + k,len(vec)]) \n",
    "        rvec[t] = np.mean(vec[start:end])\n",
    "    return(rvec)\n",
    "\n",
    "from math import sin, cos, sqrt, atan2, radians\n",
    "\n",
    "def get_distance_btw2pts(lat1,lon1,lat2,lon2):\n",
    "    '''\n",
    "    approximate radius of earth in km\n",
    "    https://stackoverflow.com/questions/19412462/getting-distance-between-two-points-based-on-latitude-longitude \n",
    "    '''\n",
    "\n",
    "    lat1 = radians(lat1)\n",
    "    lon1 = radians(lon1)\n",
    "    lat2 = radians(lat2)\n",
    "    lon2 = radians(lon2)\n",
    "\n",
    "    R = 6373.0\n",
    "    dlon = lon2 - lon1\n",
    "    dlat = lat2 - lat1\n",
    "\n",
    "    a = sin(dlat / 2)**2 + cos(lat1) * cos(lat2) * sin(dlon / 2)**2\n",
    "    c = 2 * atan2(sqrt(a), sqrt(1 - a))\n",
    "\n",
    "    distance = R * c\n",
    "    return(distance)\n",
    "\n",
    "def get_distance(df_phone):\n",
    "    count = 1\n",
    "    df_phone[\"dist\"] = np.NaN\n",
    "    for lat1, lat2, lon1, lon2 in zip(df_phone[\"lat\"][:-1],df_phone[\"lat\"][1:],\n",
    "                                      df_phone[\"lon\"][:-1],df_phone[\"lon\"][1:]):\n",
    "        dis = get_distance_btw2pts(lat1,lon1,lat2,lon2)\n",
    "        df_phone[\"dist\"].iloc[count] = dis\n",
    "        count += 1\n",
    "    print(\"  distance = {:3.1f}km\".format(np.sum(df_phone[\"dist\"])))\n",
    "    return(df_phone)\n",
    "\n",
    "def get_alt_change(alt):\n",
    "    diff_alt = alt[1:] - alt[:-1]\n",
    "    gain = np.sum(diff_alt[diff_alt > 0])\n",
    "    loss = np.sum(diff_alt[diff_alt < 0])\n",
    "    print(\"  Elevation gain {:3.0f}m, Elevation loss {:3.0f}m\".format(gain,loss))\n",
    "    print(\"  N samples = {:3d}\".format(len(alt)))\n",
    "    return gain, loss\n",
    "\n",
    "def remove_unrealistic_alt(df):\n",
    "    '''\n",
    "    if the altitude change more than 20m within 10 sec, we remove such point\n",
    "    '''\n",
    "    shape = df.shape\n",
    "\n",
    "    pick = np.abs(df[\"altitude\"].iloc[1:].values - df[\"altitude\"].iloc[:-1].values) < 20\n",
    "    pick1 = np.array([True] + list(pick))\n",
    "    pick2 = np.array(list(pick) + [True])\n",
    "\n",
    "    df = df.loc[pick1 & pick2,:]\n",
    "\n",
    "    df = df.loc[df[\"altitude\"] > 0,:] \n",
    "    print(\"remove unrealistic altitude change shape={} --> {}\".format(shape,df.shape))\n",
    "    return(df)"
   ]
  },
  {
   "cell_type": "code",
   "execution_count": null,
   "metadata": {
    "scrolled": false
   },
   "outputs": [
    {
     "name": "stderr",
     "output_type": "stream",
     "text": [
      "No geometries found\n",
      "Object does not have a geometry\n"
     ]
    },
    {
     "name": "stdout",
     "output_type": "stream",
     "text": [
      "____________\n",
      "Move_2018_04_24_07_10_00_Mountaineering_Lukla_Phakding.kml\n",
      "(168, 3)\n",
      "(90, 3)\n",
      "remove unrealistic altitude change shape=(168, 3) --> (90, 3)\n"
     ]
    },
    {
     "name": "stderr",
     "output_type": "stream",
     "text": [
      "/Users/yumikondo/anaconda3/lib/python3.6/site-packages/pandas/core/indexing.py:179: SettingWithCopyWarning: \n",
      "A value is trying to be set on a copy of a slice from a DataFrame\n",
      "\n",
      "See the caveats in the documentation: http://pandas.pydata.org/pandas-docs/stable/indexing.html#indexing-view-versus-copy\n",
      "  self._setitem_with_indexer(indexer, value)\n",
      "No geometries found\n",
      "Object does not have a geometry\n"
     ]
    },
    {
     "name": "stdout",
     "output_type": "stream",
     "text": [
      "  distance = 6.9km\n",
      "  Elevation gain 358m, Elevation loss -583m\n",
      "  N samples =  90\n",
      "____________\n",
      "Move_2018_04_25_08_12_00_Mountaineering_Phakding_NamcheBzaar.kml\n",
      "(280, 3)\n",
      "(153, 3)\n",
      "remove unrealistic altitude change shape=(280, 3) --> (153, 3)\n",
      "  distance = 10.1km\n",
      "  Elevation gain 1259m, Elevation loss -479m\n",
      "  N samples = 153\n",
      "____________\n",
      "Move_2018_04_26_07_58_23_Trekking_NamcheBzaar_NamcheBzaar.kml\n"
     ]
    },
    {
     "name": "stderr",
     "output_type": "stream",
     "text": [
      "No geometries found\n",
      "Object does not have a geometry\n"
     ]
    },
    {
     "name": "stdout",
     "output_type": "stream",
     "text": [
      "(11894, 3)\n",
      "(11894, 3)\n",
      "remove unrealistic altitude change shape=(11894, 3) --> (11894, 3)\n",
      "sliced! (1190, 3)\n",
      "  distance = 6.9km\n",
      "  Elevation gain 596m, Elevation loss -591m\n",
      "  N samples = 1190\n",
      "____________\n",
      "Move_2018_04_27_07_34_33_Trekking_NamcheBzaar_Tingboche.kml\n"
     ]
    },
    {
     "name": "stderr",
     "output_type": "stream",
     "text": [
      "No geometries found\n",
      "Object does not have a geometry\n"
     ]
    },
    {
     "name": "stdout",
     "output_type": "stream",
     "text": [
      "(18848, 3)\n",
      "(18848, 3)\n",
      "remove unrealistic altitude change shape=(18848, 3) --> (18848, 3)\n",
      "sliced! (1885, 3)\n",
      "  distance = 10.8km\n",
      "  Elevation gain 987m, Elevation loss -677m\n",
      "  N samples = 1885\n",
      "____________\n",
      "Move_2018_04_28_07_39_51_Trekking_Tingboche_Dingboche.kml\n"
     ]
    },
    {
     "name": "stderr",
     "output_type": "stream",
     "text": [
      "No geometries found\n",
      "Object does not have a geometry\n"
     ]
    },
    {
     "name": "stdout",
     "output_type": "stream",
     "text": [
      "(15214, 3)\n",
      "(15214, 3)\n",
      "remove unrealistic altitude change shape=(15214, 3) --> (15214, 3)\n",
      "sliced! (1522, 3)\n",
      "  distance = 9.7km\n",
      "  Elevation gain 816m, Elevation loss -246m\n",
      "  N samples = 1522\n",
      "____________\n",
      "Move_2018_04_29_07_55_47_Trekking_Dingboche_Dingboche.kml\n"
     ]
    },
    {
     "name": "stderr",
     "output_type": "stream",
     "text": [
      "No geometries found\n",
      "Object does not have a geometry\n"
     ]
    },
    {
     "name": "stdout",
     "output_type": "stream",
     "text": [
      "(12361, 3)\n",
      "(12361, 3)\n",
      "remove unrealistic altitude change shape=(12361, 3) --> (12361, 3)\n",
      "sliced! (1237, 3)\n"
     ]
    },
    {
     "name": "stderr",
     "output_type": "stream",
     "text": [
      "No geometries found\n",
      "Object does not have a geometry\n"
     ]
    },
    {
     "name": "stdout",
     "output_type": "stream",
     "text": [
      "  distance = 4.4km\n",
      "  Elevation gain 798m, Elevation loss -784m\n",
      "  N samples = 1237\n",
      "____________\n",
      "Move_2018_04_30_08_32_42_Mountaineering_Dingboche_Lobche_part1.kml\n",
      "(141, 3)\n",
      "(141, 3)\n",
      "remove unrealistic altitude change shape=(141, 3) --> (141, 3)\n"
     ]
    },
    {
     "name": "stderr",
     "output_type": "stream",
     "text": [
      "No geometries found\n",
      "Object does not have a geometry\n"
     ]
    },
    {
     "name": "stdout",
     "output_type": "stream",
     "text": [
      "  distance = 5.5km\n",
      "  Elevation gain 525m, Elevation loss -45m\n",
      "  N samples = 141\n",
      "____________\n",
      "Move_2018_04_30_12_42_05_Mountaineering_Dingboche_Lobche_part2.kml\n",
      "(60, 3)\n",
      "(57, 3)"
     ]
    },
    {
     "name": "stderr",
     "output_type": "stream",
     "text": [
      "No geometries found\n",
      "Object does not have a geometry\n"
     ]
    },
    {
     "name": "stdout",
     "output_type": "stream",
     "text": [
      "\n",
      "remove unrealistic altitude change shape=(60, 3) --> (57, 3)\n",
      "  distance = 2.2km\n",
      "  Elevation gain 118m, Elevation loss -19m\n",
      "  N samples =  57\n",
      "____________\n",
      "Move_2018_04_30_15_38_30_Mountaineering_Dingboche_Lobche_part3.kml\n",
      "(74, 3)\n",
      "(74, 3)\n",
      "remove unrealistic altitude change shape=(74, 3) --> (74, 3)\n"
     ]
    },
    {
     "name": "stderr",
     "output_type": "stream",
     "text": [
      "No geometries found\n",
      "Object does not have a geometry\n"
     ]
    },
    {
     "name": "stdout",
     "output_type": "stream",
     "text": [
      "  distance = 2.2km\n",
      "  Elevation gain 135m, Elevation loss -147m\n",
      "  N samples =  74\n",
      "____________\n",
      "Move_2018_05_01_06_51_39_Mountaineering_Lobche_Gorekshep_EBC.kml\n",
      "(334, 3)\n",
      "(334, 3)\n",
      "remove unrealistic altitude change shape=(334, 3) --> (334, 3)\n"
     ]
    },
    {
     "name": "stderr",
     "output_type": "stream",
     "text": [
      "No geometries found\n",
      "Object does not have a geometry\n"
     ]
    },
    {
     "name": "stdout",
     "output_type": "stream",
     "text": [
      "  distance = 11.8km\n",
      "  Elevation gain 572m, Elevation loss -321m\n",
      "  N samples = 334\n",
      "____________\n",
      "Move_2018_05_02_04_20_41_Mountaineering_Gorekshep_Kalapathar_Zongla.kml\n",
      "(414, 3)\n",
      "(414, 3)\n",
      "remove unrealistic altitude change shape=(414, 3) --> (414, 3)\n"
     ]
    }
   ],
   "source": [
    "dfs = []\n",
    "for fnm in kmls:\n",
    "    print(\"____________\")\n",
    "    print(fnm)\n",
    "    df = get_coordinates(dir_move + fnm)\n",
    "\n",
    "    ## clean the data for trekking recorded using phone \n",
    "    if \"Trekking\" in fnm:\n",
    "        for col in df.columns:\n",
    "            df[col] = get_rolling_average(df[col].values, k=5)\n",
    "\n",
    "    ## remove the unrealistic values\n",
    "    df = remove_unrealistic_alt(df)\n",
    "    if \"Trekking\" in fnm:\n",
    "        df = df.iloc[::10,:]\n",
    "        print(\"sliced!\",df.shape)\n",
    "    ## add info from calenders\n",
    "    fnm = fnm.split(\"_\")\n",
    "    df[\"date\"]  = fnm[1] + \"-\" + fnm[2] + \"-\" + fnm[3]\n",
    "    df[\"move\"]  = fnm[7]\n",
    "    \n",
    "    ## calculate distance between two points\n",
    "    df = get_distance(df)\n",
    "    \n",
    "    gain, loss = get_alt_change(df[\"altitude\"].values)\n",
    "    df[\"gain\"] , df[\"loss\"] = gain, loss\n",
    "    dfs.append(df)\n",
    "    \n",
    "dfs = pd.concat(dfs)"
   ]
  },
  {
   "cell_type": "code",
   "execution_count": null,
   "metadata": {
    "collapsed": true,
    "scrolled": true
   },
   "outputs": [],
   "source": [
    "dfs[\"date\"] = pd.to_datetime(dfs[\"date\"],format='%Y%m%d')\n",
    "\n",
    "day0 = np.datetime64('2018-04-23')\n",
    "unidate = np.unique(dfs[\"date\"])\n",
    "dfs = dfs.fillna(0)\n",
    "cs,days = [], []\n",
    "for ii , date in enumerate(unidate,1):\n",
    "    dfdate = dfs[\"dist\"].loc[date == dfs[\"date\"].values].values\n",
    "    cstemp = np.cumsum(dfdate)\n",
    "    cstemp[0] = 0\n",
    "    cs.extend(list(cstemp))\n",
    "    Day = (date - np.datetime64('2018-04-23'))/np.timedelta64(1,'D')\n",
    "    days.extend([int(Day)]*len(cstemp))\n",
    "dfs[\"csdist\"] = cs\n",
    "dfs[\"Day\"] = days"
   ]
  },
  {
   "cell_type": "code",
   "execution_count": null,
   "metadata": {
    "collapsed": true
   },
   "outputs": [],
   "source": [
    "date"
   ]
  },
  {
   "cell_type": "code",
   "execution_count": null,
   "metadata": {
    "collapsed": true
   },
   "outputs": [],
   "source": []
  },
  {
   "cell_type": "code",
   "execution_count": null,
   "metadata": {
    "collapsed": true
   },
   "outputs": [],
   "source": [
    "dfs.head(5)"
   ]
  },
  {
   "cell_type": "code",
   "execution_count": null,
   "metadata": {
    "collapsed": true
   },
   "outputs": [],
   "source": [
    "dfs.tail(5)"
   ]
  },
  {
   "cell_type": "code",
   "execution_count": null,
   "metadata": {
    "collapsed": true
   },
   "outputs": [],
   "source": [
    "dfs.to_csv(dir_move + \"trekking.csv\")"
   ]
  }
 ],
 "metadata": {
  "kernelspec": {
   "display_name": "Python 3",
   "language": "python",
   "name": "python3"
  },
  "language_info": {
   "codemirror_mode": {
    "name": "ipython",
    "version": 3
   },
   "file_extension": ".py",
   "mimetype": "text/x-python",
   "name": "python",
   "nbconvert_exporter": "python",
   "pygments_lexer": "ipython3",
   "version": "3.6.3"
  }
 },
 "nbformat": 4,
 "nbformat_minor": 2
}
