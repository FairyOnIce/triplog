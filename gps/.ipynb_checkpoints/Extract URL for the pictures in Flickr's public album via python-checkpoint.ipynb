{
 "cells": [
  {
   "cell_type": "markdown",
   "metadata": {},
   "source": [
    "When you make your own website using third-party clouds, e.g. Heroku, there is a restriction for the uploaded data size. For example, Heroku only allows 500MB memory space. This might become a too tight constraint if you want to add some pictures to your websites as high resolution pictures nowadays could easily be about 10MB.\n",
    "\n",
    "Instead of uploading photos to these clouds together with your .html and .css files, \n",
    "it may be wise to use other image hosting service such as Flickr or Instagram: \n",
    "you may upload images to these image hosting services, make them public, and then simply add link to the photos in the image hosting service in your webpage.  \n",
    "\n",
    "\n",
    "In this blog post, I will explore this approach and present how to extract pictures from Flickr's public album using python.\n",
    "\n",
    "\n",
    "I assume that you know the user_id of the owner of Flickr's public album.\n",
    "user_id is most likely of the form:  123456789@N12. \n",
    "For example my user id is 157237655@N08\n",
    "\n",
    "See [here](https://www.pixsy.com/academy/flickr-id/) to find user_id of Fliker users.\n",
    "\n",
    "\n",
    "## References\n",
    "- [Flickr example: Retrieve a Flickr gallery](https://idratherbewriting.com/learnapidoc/docapis_flickr_example.html#2-determine-the-resource-and-endpoint-you-need)\n",
    "- [Flickr’s API method, the flickr.photosets.getLists endpoint](https://www.flickr.com/services/api/explore/flickr.photosets.getList)\n",
    "- [Flickr’s API method, the flickr.photosets.getPhotos endpoint](https://www.flickr.com/services/api/explore/flickr.photosets.getPhotos)\n",
    "\n"
   ]
  },
  {
   "cell_type": "markdown",
   "metadata": {},
   "source": [
    "## Step 0: Get an API key to make requests\n",
    "Before you can make a request with the Flickr API, you’ll need an API key (free).\n",
    "Follow the instruction [here](https://www.flickr.com/services/apps/create/). \n",
    "When you register an app, you’re given a key and secret."
   ]
  },
  {
   "cell_type": "markdown",
   "metadata": {},
   "source": [
    "## Step 1: Get photoset id via flickr.photosets.getList endpoint\n",
    "To extract photos in Flikr's public albums, I need to know a photoset id. \n",
    "This is an identifier for the album.\n",
    " \n",
    "\n"
   ]
  },
  {
   "cell_type": "code",
   "execution_count": 1,
   "metadata": {
    "scrolled": true
   },
   "outputs": [
    {
     "name": "stdout",
     "output_type": "stream",
     "text": [
      "14 albums found for user_id=157237655@N08\n"
     ]
    }
   ],
   "source": [
    "import requests\n",
    "import json, sys\n",
    "sys.path.append('../')\n",
    "from personal import flikr_api_key as api_key\n",
    "\n",
    "## load all the necessary functions\n",
    "def get_requestURL(user_id,endpoint=\"getList\"):\n",
    "    user_id = user_id.replace(\"@\",\"%40\")\n",
    "    url_upto_apikey = (\"https://api.flickr.com/services/rest/?method=flickr.photosets.\" + \n",
    "                       endpoint + \n",
    "                       \"&api_key=\" +  api_key + \n",
    "                       \"&user_id=\" +  user_id + \n",
    "                       \"&format=json&nojsoncallback=1\")\n",
    "    return(url_upto_apikey)\n",
    "\n",
    "\n",
    "def get_photo_url(farmId,serverId,Id,secret):\n",
    "    return ((\"https://farm\" + str(farmId) + \n",
    "            \".staticflickr.com/\" + serverId + \n",
    "            \"/\" + Id + '_' + secret + \".jpg\"))\n",
    "\n",
    "def get_picURL_of_album(user_id,photoset_id):\n",
    "    url = get_requestURL(user_id,endpoint=\"getPhotos\") + \"&photoset_id=\" + photoset_id\n",
    "    strlist = requests.get(url).content\n",
    "    json1_data = json.loads(strlist)\n",
    "    \n",
    "    urls = []\n",
    "    for pic in json1_data[\"photoset\"][\"photo\"]: ## for each picture in an album\n",
    "        urls.append(get_photo_url(pic[\"farm\"],pic['server'], pic[\"id\"], pic[\"secret\"]))\n",
    "    return(urls)\n",
    "\n",
    "\n",
    "user_id = \"157237655@N08\"\n",
    "\n",
    "\n",
    "url = get_requestURL(user_id,endpoint=\"getList\") \n",
    "strlist = requests.get(url).content\n",
    "json_data = json.loads(strlist)\n",
    "albums = json_data[\"photosets\"][\"photoset\"]\n",
    "\n",
    "print(\"{} albums found for user_id={}\".format(len(albums),user_id))"
   ]
  },
  {
   "cell_type": "markdown",
   "metadata": {},
   "source": [
    "Let's look at some of the album titles"
   ]
  },
  {
   "cell_type": "code",
   "execution_count": 2,
   "metadata": {},
   "outputs": [
    {
     "name": "stdout",
     "output_type": "stream",
     "text": [
      "___\n",
      "album title= 5/5/2018 Day12 photoset_id=72157666947668397\n",
      "___\n",
      "album title=5/7/2018 Day14 photoset_id=72157695104270601\n",
      "___\n",
      "album title=5/6/2018 Day13 photoset_id=72157668988962728\n",
      "___\n",
      "album title=5/4/2018 Day11 photoset_id=72157695104114951\n",
      "___\n",
      "album title=5/2/2018 Day9 photoset_id=72157696204993104\n",
      "___\n",
      "album title=5/3/2018 Day10 photoset_id=72157696204977184\n",
      "___\n",
      "album title=4/28/2018 Day5 photoset_id=72157693696318772\n",
      "___\n",
      "album title=4/29/2018 Day6 photoset_id=72157695104025101\n",
      "___\n",
      "album title=4/30/2018 Day7 photoset_id=72157666947100257\n",
      "___\n",
      "album title=5/1/2018 Day8 photoset_id=72157695104003731\n",
      "___\n",
      "album title=4/27/2018 Day4 photoset_id=72157693696247802\n",
      "___\n",
      "album title=4/26/2018 Day3 photoset_id=72157695103914511\n",
      "___\n",
      "album title=4/25/2018 Day2 photoset_id=72157666947001577\n",
      "___\n",
      "album title=4/24/2018 Day1 photoset_id=72157668988636988\n"
     ]
    }
   ],
   "source": [
    "photosetids, titles = [], []\n",
    "for album in albums:\n",
    "    print(\"___\")\n",
    "    print(\"album title={} photoset_id={}\".format(album['title']['_content'],album[\"id\"]))\n",
    "    photosetids.append(album[\"id\"])\n",
    "    titles.append(album['title']['_content'])"
   ]
  },
  {
   "cell_type": "markdown",
   "metadata": {},
   "source": [
    "## Step 2: For each album, extract infomation of all the photos.\n",
    "In order to find the unique URL to each photo, I need to know:\n",
    "\n",
    "- farm ID\n",
    "- server ID\n",
    "- ID\n",
    "- secret\n",
    "\n",
    "Such infomation is extracted using flickr.photosets.getPhotos API."
   ]
  },
  {
   "cell_type": "code",
   "execution_count": 3,
   "metadata": {
    "scrolled": false
   },
   "outputs": [],
   "source": [
    "URLs = {}\n",
    "for photoset_id, title in zip(photosetids,titles): ## for each album\n",
    "    URLs[photoset_id] = get_picURL_of_album(user_id,photoset_id)\n",
    "    "
   ]
  },
  {
   "cell_type": "markdown",
   "metadata": {},
   "source": [
    "## Finally let's plot the extracted photos from the first 4 albums\n",
    "The codes seem to be working!"
   ]
  },
  {
   "cell_type": "code",
   "execution_count": 4,
   "metadata": {
    "scrolled": false
   },
   "outputs": [
    {
     "name": "stdout",
     "output_type": "stream",
     "text": [
      "______________________\n",
      " 5/5/2018 Day12, photoset_id=72157666947668397\n",
      "https://farm1.staticflickr.com/830/27250089027_6daf9c74e2.jpg\n"
     ]
    },
    {
     "data": {
      "text/html": [
       "<img src=\"https://farm1.staticflickr.com/830/27250089027_6daf9c74e2.jpg\" width=\"200\" height=\"200\"/>"
      ],
      "text/plain": [
       "<IPython.core.display.Image object>"
      ]
     },
     "metadata": {},
     "output_type": "display_data"
    },
    {
     "name": "stdout",
     "output_type": "stream",
     "text": [
      "https://farm1.staticflickr.com/979/42120644961_d7332f4076.jpg\n"
     ]
    },
    {
     "data": {
      "text/html": [
       "<img src=\"https://farm1.staticflickr.com/979/42120644961_d7332f4076.jpg\" width=\"200\" height=\"200\"/>"
      ],
      "text/plain": [
       "<IPython.core.display.Image object>"
      ]
     },
     "metadata": {},
     "output_type": "display_data"
    },
    {
     "name": "stdout",
     "output_type": "stream",
     "text": [
      "______________________\n",
      "5/7/2018 Day14, photoset_id=72157695104270601\n",
      "https://farm1.staticflickr.com/830/42074479842_914d7fc46c.jpg\n"
     ]
    },
    {
     "data": {
      "text/html": [
       "<img src=\"https://farm1.staticflickr.com/830/42074479842_914d7fc46c.jpg\" width=\"200\" height=\"200\"/>"
      ],
      "text/plain": [
       "<IPython.core.display.Image object>"
      ]
     },
     "metadata": {},
     "output_type": "display_data"
    },
    {
     "name": "stdout",
     "output_type": "stream",
     "text": [
      "https://farm1.staticflickr.com/912/42074477492_bb637a15b7.jpg\n"
     ]
    },
    {
     "data": {
      "text/html": [
       "<img src=\"https://farm1.staticflickr.com/912/42074477492_bb637a15b7.jpg\" width=\"200\" height=\"200\"/>"
      ],
      "text/plain": [
       "<IPython.core.display.Image object>"
      ]
     },
     "metadata": {},
     "output_type": "display_data"
    },
    {
     "name": "stdout",
     "output_type": "stream",
     "text": [
      "https://farm1.staticflickr.com/908/40313692800_0aece89fb9.jpg\n"
     ]
    },
    {
     "data": {
      "text/html": [
       "<img src=\"https://farm1.staticflickr.com/908/40313692800_0aece89fb9.jpg\" width=\"200\" height=\"200\"/>"
      ],
      "text/plain": [
       "<IPython.core.display.Image object>"
      ]
     },
     "metadata": {},
     "output_type": "display_data"
    },
    {
     "name": "stdout",
     "output_type": "stream",
     "text": [
      "______________________\n",
      "5/6/2018 Day13, photoset_id=72157668988962728\n",
      "https://farm1.staticflickr.com/909/27250105877_83c32cf63d.jpg\n"
     ]
    },
    {
     "data": {
      "text/html": [
       "<img src=\"https://farm1.staticflickr.com/909/27250105877_83c32cf63d.jpg\" width=\"200\" height=\"200\"/>"
      ],
      "text/plain": [
       "<IPython.core.display.Image object>"
      ]
     },
     "metadata": {},
     "output_type": "display_data"
    },
    {
     "name": "stdout",
     "output_type": "stream",
     "text": [
      "https://farm1.staticflickr.com/945/40313708090_323d71ce91.jpg\n"
     ]
    },
    {
     "data": {
      "text/html": [
       "<img src=\"https://farm1.staticflickr.com/945/40313708090_323d71ce91.jpg\" width=\"200\" height=\"200\"/>"
      ],
      "text/plain": [
       "<IPython.core.display.Image object>"
      ]
     },
     "metadata": {},
     "output_type": "display_data"
    },
    {
     "name": "stdout",
     "output_type": "stream",
     "text": [
      "https://farm1.staticflickr.com/830/27250089027_6daf9c74e2.jpg\n"
     ]
    },
    {
     "data": {
      "text/html": [
       "<img src=\"https://farm1.staticflickr.com/830/27250089027_6daf9c74e2.jpg\" width=\"200\" height=\"200\"/>"
      ],
      "text/plain": [
       "<IPython.core.display.Image object>"
      ]
     },
     "metadata": {},
     "output_type": "display_data"
    },
    {
     "name": "stdout",
     "output_type": "stream",
     "text": [
      "https://farm1.staticflickr.com/979/42120644961_d7332f4076.jpg\n"
     ]
    },
    {
     "data": {
      "text/html": [
       "<img src=\"https://farm1.staticflickr.com/979/42120644961_d7332f4076.jpg\" width=\"200\" height=\"200\"/>"
      ],
      "text/plain": [
       "<IPython.core.display.Image object>"
      ]
     },
     "metadata": {},
     "output_type": "display_data"
    },
    {
     "name": "stdout",
     "output_type": "stream",
     "text": [
      "______________________\n",
      "5/4/2018 Day11, photoset_id=72157695104114951\n",
      "https://farm1.staticflickr.com/979/41219229825_0c17b21d8b.jpg\n"
     ]
    },
    {
     "data": {
      "text/html": [
       "<img src=\"https://farm1.staticflickr.com/979/41219229825_0c17b21d8b.jpg\" width=\"200\" height=\"200\"/>"
      ],
      "text/plain": [
       "<IPython.core.display.Image object>"
      ]
     },
     "metadata": {},
     "output_type": "display_data"
    },
    {
     "name": "stdout",
     "output_type": "stream",
     "text": [
      "https://farm1.staticflickr.com/981/41219233685_72f336ee61.jpg\n"
     ]
    },
    {
     "data": {
      "text/html": [
       "<img src=\"https://farm1.staticflickr.com/981/41219233685_72f336ee61.jpg\" width=\"200\" height=\"200\"/>"
      ],
      "text/plain": [
       "<IPython.core.display.Image object>"
      ]
     },
     "metadata": {},
     "output_type": "display_data"
    },
    {
     "name": "stdout",
     "output_type": "stream",
     "text": [
      "https://farm1.staticflickr.com/908/41219241425_c6d6609c1f.jpg\n"
     ]
    },
    {
     "data": {
      "text/html": [
       "<img src=\"https://farm1.staticflickr.com/908/41219241425_c6d6609c1f.jpg\" width=\"200\" height=\"200\"/>"
      ],
      "text/plain": [
       "<IPython.core.display.Image object>"
      ]
     },
     "metadata": {},
     "output_type": "display_data"
    },
    {
     "name": "stdout",
     "output_type": "stream",
     "text": [
      "https://farm1.staticflickr.com/980/41219254165_cedb9220b9.jpg\n"
     ]
    },
    {
     "data": {
      "text/html": [
       "<img src=\"https://farm1.staticflickr.com/980/41219254165_cedb9220b9.jpg\" width=\"200\" height=\"200\"/>"
      ],
      "text/plain": [
       "<IPython.core.display.Image object>"
      ]
     },
     "metadata": {},
     "output_type": "display_data"
    },
    {
     "name": "stdout",
     "output_type": "stream",
     "text": [
      "https://farm1.staticflickr.com/909/41219255495_7606541450.jpg\n"
     ]
    },
    {
     "data": {
      "text/html": [
       "<img src=\"https://farm1.staticflickr.com/909/41219255495_7606541450.jpg\" width=\"200\" height=\"200\"/>"
      ],
      "text/plain": [
       "<IPython.core.display.Image object>"
      ]
     },
     "metadata": {},
     "output_type": "display_data"
    }
   ],
   "source": [
    "from IPython.display import Image, display\n",
    "\n",
    "count = 1\n",
    "for i, (photoset_id, urls) in enumerate(URLs.items()):\n",
    "    print(\"______________________\")\n",
    "    print(\"{}, photoset_id={}\".format(titles[i],photoset_id))\n",
    "    for url in urls:\n",
    "        print(url)\n",
    "        display(Image(url= url, width=200, height=200))\n",
    "    count += 1\n",
    "    if count > 4:\n",
    "        break"
   ]
  }
 ],
 "metadata": {
  "kernelspec": {
   "display_name": "Python 3",
   "language": "python",
   "name": "python3"
  },
  "language_info": {
   "codemirror_mode": {
    "name": "ipython",
    "version": 3
   },
   "file_extension": ".py",
   "mimetype": "text/x-python",
   "name": "python",
   "nbconvert_exporter": "python",
   "pygments_lexer": "ipython3",
   "version": "3.6.3"
  }
 },
 "nbformat": 4,
 "nbformat_minor": 2
}
