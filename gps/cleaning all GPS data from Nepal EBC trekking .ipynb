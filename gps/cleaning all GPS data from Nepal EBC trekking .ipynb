{
 "cells": [
  {
   "cell_type": "code",
   "execution_count": 1,
   "metadata": {
    "collapsed": true
   },
   "outputs": [],
   "source": [
    "import numpy as np \n",
    "import os\n",
    "import fastkml\n",
    "import pandas as pd \n",
    "dir_move = \"../gps/data/\""
   ]
  },
  {
   "cell_type": "code",
   "execution_count": 5,
   "metadata": {
    "collapsed": true
   },
   "outputs": [],
   "source": [
    "kmls = list(np.sort([kml for kml in os.listdir(dir_move) if \"kml\" in kml]))"
   ]
  },
  {
   "cell_type": "code",
   "execution_count": 77,
   "metadata": {
    "collapsed": true
   },
   "outputs": [],
   "source": [
    "def get_coordinates(path_kml):\n",
    "    '''\n",
    "    extract lat, lon, altitude info from the kml data\n",
    "    '''\n",
    "    doc = open(path_kml, 'rb+').read()\n",
    "    k = fastkml.KML()\n",
    "    k.from_string(doc)\n",
    "    kmlstr = k.to_string()\n",
    "    coordstr = kmlstr.split(\"<coordinates>\")[1].split(\"</coordinates>\")[0]\n",
    "    coordlst = coordstr.split(\" \")\n",
    "    l = []\n",
    "    for point in coordlst:\n",
    "        pointlst = point.split(\",\")\n",
    "        l.append(pointlst)\n",
    "    df = pd.DataFrame(l,columns = [\"lon\",\"lat\",\"altitude\"])\n",
    "    for col in df.columns:\n",
    "        df[col] = pd.to_numeric(df[col], errors='coerce')\n",
    "    return(df)\n",
    "\n",
    "def get_rolling_average(vec, k=5):\n",
    "    rvec = np.zeros(len(vec))\n",
    "    for t in range(len(vec)):\n",
    "        start = np.max([t - k,0])\n",
    "        end   = np.min([t + k,len(vec)]) \n",
    "        rvec[t] = np.mean(vec[start:end])\n",
    "    return(rvec)\n",
    "\n",
    "from math import sin, cos, sqrt, atan2, radians\n",
    "\n",
    "def get_distance_btw2pts(lat1,lon1,lat2,lon2):\n",
    "    '''\n",
    "    approximate radius of earth in km\n",
    "    https://stackoverflow.com/questions/19412462/getting-distance-between-two-points-based-on-latitude-longitude \n",
    "    '''\n",
    "\n",
    "    lat1 = radians(lat1)\n",
    "    lon1 = radians(lon1)\n",
    "    lat2 = radians(lat2)\n",
    "    lon2 = radians(lon2)\n",
    "\n",
    "    R = 6373.0\n",
    "    dlon = lon2 - lon1\n",
    "    dlat = lat2 - lat1\n",
    "\n",
    "    a = sin(dlat / 2)**2 + cos(lat1) * cos(lat2) * sin(dlon / 2)**2\n",
    "    c = 2 * atan2(sqrt(a), sqrt(1 - a))\n",
    "\n",
    "    distance = R * c\n",
    "    return(distance)\n",
    "\n",
    "def get_distance(df_phone):\n",
    "    count = 1\n",
    "    df_phone[\"dist\"] = np.NaN\n",
    "    for lat1, lat2, lon1, lon2 in zip(df_phone[\"lat\"][:-1],df_phone[\"lat\"][1:],\n",
    "                                      df_phone[\"lon\"][:-1],df_phone[\"lon\"][1:]):\n",
    "        dis = get_distance_btw2pts(lat1,lon1,lat2,lon2)\n",
    "        df_phone[\"dist\"].iloc[count] = dis\n",
    "        count += 1\n",
    "    print(\"  distance = {:3.1f}km\".format(np.sum(df_phone[\"dist\"])))\n",
    "    return(df_phone)\n",
    "\n",
    "def get_alt_change(alt):\n",
    "    diff_alt = alt[1:] - alt[:-1]\n",
    "    gain = np.sum(diff_alt[diff_alt > 0])\n",
    "    loss = np.sum(diff_alt[diff_alt < 0])\n",
    "    print(\"  Elevation gain {:3.0f}m, Elevation loss {:3.0f}m\".format(gain,loss))\n",
    "    print(\"  N samples = {:3d}\".format(len(alt)))\n",
    "    return gain, loss\n",
    "\n",
    "def remove_unrealistic_alt(df):\n",
    "    '''\n",
    "    if the altitude change more than 20m within 10 sec, we remove such point\n",
    "    '''\n",
    "    shape = df.shape\n",
    "\n",
    "    pick = np.abs(df[\"altitude\"].iloc[1:].values - df[\"altitude\"].iloc[:-1].values) < 20\n",
    "    pick1 = np.array([True] + list(pick))\n",
    "    pick2 = np.array(list(pick) + [True])\n",
    "    print(df.shape)\n",
    "    df = df.loc[pick1 & pick2,:]\n",
    "    print(df.shape)\n",
    "    df = df.loc[df[\"altitude\"] > 0,:] \n",
    "    print(\"remove unrealistic altitude change shape={} --> {}\".format(shape,df.shape))\n",
    "    return(df)"
   ]
  },
  {
   "cell_type": "code",
   "execution_count": 79,
   "metadata": {},
   "outputs": [
    {
     "data": {
      "text/plain": [
       "['Move_2018_04_24_07_10_00_Mountaineering_Lukla_Phakding.kml',\n",
       " 'Move_2018_04_25_08_12_00_Mountaineering_Phakding_NamcheBzaar.kml',\n",
       " 'Move_2018_04_26_07_58_23_Trekking_NamcheBzaar_NamcheBzaar.kml',\n",
       " 'Move_2018_04_27_07_34_33_Trekking_NamcheBzaar_Tingboche.kml',\n",
       " 'Move_2018_04_28_07_39_51_Trekking_Tingboche_Dingboche.kml',\n",
       " 'Move_2018_04_29_07_55_47_Trekking_Dingboche_Dingboche.kml',\n",
       " 'Move_2018_04_30_08_32_42_Mountaineering_Dingboche_Lobche_part1.kml',\n",
       " 'Move_2018_04_30_12_42_05_Mountaineering_Dingboche_Lobche_part2.kml',\n",
       " 'Move_2018_04_30_15_38_30_Mountaineering_Dingboche_Lobche_part3.kml',\n",
       " 'Move_2018_05_01_06_51_39_Mountaineering_Lobche_Gorekshep_EBC.kml',\n",
       " 'Move_2018_05_02_04_20_41_Mountaineering_Gorekshep_Kalapathar_Zongla.kml',\n",
       " 'Move_2018_05_03_05_41_48_Mountaineering_Zongla_ChoLa_part1.kml',\n",
       " 'Move_2018_05_03_08_56_55_Mountaineering_ChoLa_Thangna_Gokyo_part2.kml',\n",
       " 'Move_2018_05_04_06_40_38_Mountaineering_Gokyo_GokyoRi_part1.kml',\n",
       " 'Move_2018_05_04_12_16_31_Mountaineering_Gokyo_Marhhermo_part2.kml',\n",
       " 'Move_2018_05_05_07_52_34_Mountaineering_Machamo_Dhole_part1.kml',\n",
       " 'Move_2018_05_05_10_02_35_Mountaineering_Dhole_NamcheBzaar.kml',\n",
       " 'Move_2018_05_07_07_34_55_Mountaineering_NamcheBzaar_Lukla.kml']"
      ]
     },
     "execution_count": 79,
     "metadata": {},
     "output_type": "execute_result"
    }
   ],
   "source": [
    "fnm = \"Move_2018_04_24_07_10_00_Mountaineering_Lukla_Phakding.kml\"\n",
    "kmls"
   ]
  },
  {
   "cell_type": "code",
   "execution_count": 85,
   "metadata": {},
   "outputs": [
    {
     "name": "stderr",
     "output_type": "stream",
     "text": [
      "No geometries found\n",
      "Object does not have a geometry\n"
     ]
    },
    {
     "name": "stdout",
     "output_type": "stream",
     "text": [
      "____________\n",
      "Move_2018_04_24_07_10_00_Mountaineering_Lukla_Phakding.kml\n",
      "(168, 3)\n",
      "(90, 3)\n",
      "remove unrealistic altitude change shape=(168, 3) --> (90, 3)\n"
     ]
    },
    {
     "name": "stderr",
     "output_type": "stream",
     "text": [
      "/Users/yumikondo/anaconda3/lib/python3.6/site-packages/pandas/core/indexing.py:179: SettingWithCopyWarning: \n",
      "A value is trying to be set on a copy of a slice from a DataFrame\n",
      "\n",
      "See the caveats in the documentation: http://pandas.pydata.org/pandas-docs/stable/indexing.html#indexing-view-versus-copy\n",
      "  self._setitem_with_indexer(indexer, value)\n",
      "No geometries found\n",
      "Object does not have a geometry\n"
     ]
    },
    {
     "name": "stdout",
     "output_type": "stream",
     "text": [
      "  distance = 6.9km\n",
      "  Elevation gain 358m, Elevation loss -583m\n",
      "  N samples =  90\n",
      "____________\n",
      "Move_2018_04_25_08_12_00_Mountaineering_Phakding_NamcheBzaar.kml\n",
      "(280, 3)\n",
      "(153, 3)\n",
      "remove unrealistic altitude change shape=(280, 3) --> (153, 3)\n",
      "  distance = 10.1km\n",
      "  Elevation gain 1259m, Elevation loss -479m\n",
      "  N samples = 153\n",
      "____________\n",
      "Move_2018_04_26_07_58_23_Trekking_NamcheBzaar_NamcheBzaar.kml\n"
     ]
    },
    {
     "name": "stderr",
     "output_type": "stream",
     "text": [
      "No geometries found\n",
      "Object does not have a geometry\n"
     ]
    },
    {
     "name": "stdout",
     "output_type": "stream",
     "text": [
      "(11894, 3)\n",
      "(11894, 3)\n",
      "remove unrealistic altitude change shape=(11894, 3) --> (11894, 3)\n",
      "  distance = 7.2km\n",
      "  Elevation gain 629m, Elevation loss -624m\n",
      "  N samples = 11894\n",
      "____________\n",
      "Move_2018_04_27_07_34_33_Trekking_NamcheBzaar_Tingboche.kml\n"
     ]
    },
    {
     "name": "stderr",
     "output_type": "stream",
     "text": [
      "No geometries found\n",
      "Object does not have a geometry\n"
     ]
    },
    {
     "name": "stdout",
     "output_type": "stream",
     "text": [
      "(18848, 3)\n",
      "(18848, 3)\n",
      "remove unrealistic altitude change shape=(18848, 3) --> (18848, 3)\n",
      "  distance = 10.9km\n",
      "  Elevation gain 1021m, Elevation loss -712m\n",
      "  N samples = 18848\n",
      "____________\n",
      "Move_2018_04_28_07_39_51_Trekking_Tingboche_Dingboche.kml\n"
     ]
    },
    {
     "name": "stderr",
     "output_type": "stream",
     "text": [
      "No geometries found\n",
      "Object does not have a geometry\n"
     ]
    },
    {
     "name": "stdout",
     "output_type": "stream",
     "text": [
      "(15214, 3)\n",
      "(15214, 3)\n",
      "remove unrealistic altitude change shape=(15214, 3) --> (15214, 3)\n",
      "  distance = 9.9km\n",
      "  Elevation gain 889m, Elevation loss -319m\n",
      "  N samples = 15214\n",
      "____________\n",
      "Move_2018_04_29_07_55_47_Trekking_Dingboche_Dingboche.kml\n"
     ]
    },
    {
     "name": "stderr",
     "output_type": "stream",
     "text": [
      "No geometries found\n",
      "Object does not have a geometry\n"
     ]
    },
    {
     "name": "stdout",
     "output_type": "stream",
     "text": [
      "(12361, 3)\n",
      "(12361, 3)\n",
      "remove unrealistic altitude change shape=(12361, 3) --> (12361, 3)\n"
     ]
    },
    {
     "name": "stderr",
     "output_type": "stream",
     "text": [
      "No geometries found\n",
      "Object does not have a geometry\n"
     ]
    },
    {
     "name": "stdout",
     "output_type": "stream",
     "text": [
      "  distance = 4.6km\n",
      "  Elevation gain 829m, Elevation loss -815m\n",
      "  N samples = 12361\n",
      "____________\n",
      "Move_2018_04_30_08_32_42_Mountaineering_Dingboche_Lobche_part1.kml\n"
     ]
    },
    {
     "name": "stderr",
     "output_type": "stream",
     "text": [
      "No geometries found\n",
      "Object does not have a geometry\n"
     ]
    },
    {
     "name": "stdout",
     "output_type": "stream",
     "text": [
      "(141, 3)\n",
      "(141, 3)\n",
      "remove unrealistic altitude change shape=(141, 3) --> (141, 3)\n",
      "  distance = 5.5km\n",
      "  Elevation gain 525m, Elevation loss -45m\n",
      "  N samples = 141\n",
      "____________\n",
      "Move_2018_04_30_12_42_05_Mountaineering_Dingboche_Lobche_part2.kml\n",
      "(60, 3)\n",
      "(57, 3)\n",
      "remove unrealistic altitude change shape=(60, 3) --> (57, 3)\n"
     ]
    },
    {
     "name": "stderr",
     "output_type": "stream",
     "text": [
      "No geometries found\n",
      "Object does not have a geometry\n"
     ]
    },
    {
     "name": "stdout",
     "output_type": "stream",
     "text": [
      "  distance = 2.2km\n",
      "  Elevation gain 118m, Elevation loss -19m\n",
      "  N samples =  57\n",
      "____________\n",
      "Move_2018_04_30_15_38_30_Mountaineering_Dingboche_Lobche_part3.kml\n",
      "(74, 3)\n"
     ]
    },
    {
     "name": "stderr",
     "output_type": "stream",
     "text": [
      "No geometries found\n",
      "Object does not have a geometry\n"
     ]
    },
    {
     "name": "stdout",
     "output_type": "stream",
     "text": [
      "(74, 3)\n",
      "remove unrealistic altitude change shape=(74, 3) --> (74, 3)\n",
      "  distance = 2.2km\n",
      "  Elevation gain 135m, Elevation loss -147m\n",
      "  N samples =  74\n",
      "____________\n",
      "Move_2018_05_01_06_51_39_Mountaineering_Lobche_Gorekshep_EBC.kml\n",
      "(334, 3)\n",
      "(334, 3)\n",
      "remove unrealistic altitude change shape=(334, 3) --> (334, 3)\n"
     ]
    },
    {
     "name": "stderr",
     "output_type": "stream",
     "text": [
      "No geometries found\n",
      "Object does not have a geometry\n"
     ]
    },
    {
     "name": "stdout",
     "output_type": "stream",
     "text": [
      "  distance = 11.8km\n",
      "  Elevation gain 572m, Elevation loss -321m\n",
      "  N samples = 334\n",
      "____________\n",
      "Move_2018_05_02_04_20_41_Mountaineering_Gorekshep_Kalapathar_Zongla.kml\n",
      "(414, 3)\n",
      "(414, 3)\n",
      "remove unrealistic altitude change shape=(414, 3) --> (414, 3)\n"
     ]
    },
    {
     "name": "stderr",
     "output_type": "stream",
     "text": [
      "No geometries found\n",
      "Object does not have a geometry\n"
     ]
    },
    {
     "name": "stdout",
     "output_type": "stream",
     "text": [
      "  distance = 14.7km\n",
      "  Elevation gain 736m, Elevation loss -1054m\n",
      "  N samples = 414\n",
      "____________\n",
      "Move_2018_05_03_05_41_48_Mountaineering_Zongla_ChoLa_part1.kml\n",
      "(127, 3)\n",
      "(125, 3)\n"
     ]
    },
    {
     "name": "stderr",
     "output_type": "stream",
     "text": [
      "No geometries found\n",
      "Object does not have a geometry\n"
     ]
    },
    {
     "name": "stdout",
     "output_type": "stream",
     "text": [
      "remove unrealistic altitude change shape=(127, 3) --> (125, 3)\n",
      "  distance = 3.8km\n",
      "  Elevation gain 485m, Elevation loss -31m\n",
      "  N samples = 125\n",
      "____________\n",
      "Move_2018_05_03_08_56_55_Mountaineering_ChoLa_Thangna_Gokyo_part2.kml\n",
      "(280, 3)\n",
      "(273, 3)\n",
      "remove unrealistic altitude change shape=(280, 3) --> (273, 3)\n"
     ]
    },
    {
     "name": "stderr",
     "output_type": "stream",
     "text": [
      "No geometries found\n",
      "Object does not have a geometry\n"
     ]
    },
    {
     "name": "stdout",
     "output_type": "stream",
     "text": [
      "  distance = 10.2km\n",
      "  Elevation gain 477m, Elevation loss -1013m\n",
      "  N samples = 273\n",
      "____________\n",
      "Move_2018_05_04_06_40_38_Mountaineering_Gokyo_GokyoRi_part1.kml\n",
      "(173, 3)\n",
      "(173, 3)\n",
      "remove unrealistic altitude change shape=(173, 3) --> (173, 3)\n"
     ]
    },
    {
     "name": "stderr",
     "output_type": "stream",
     "text": [
      "No geometries found\n",
      "Object does not have a geometry\n"
     ]
    },
    {
     "name": "stdout",
     "output_type": "stream",
     "text": [
      "  distance = 3.5km\n",
      "  Elevation gain 610m, Elevation loss -601m\n",
      "  N samples = 173\n",
      "____________\n",
      "Move_2018_05_04_12_16_31_Mountaineering_Gokyo_Marhhermo_part2.kml\n",
      "(153, 3)\n",
      "(153, 3)\n",
      "remove unrealistic altitude change shape=(153, 3) --> (153, 3)\n"
     ]
    },
    {
     "name": "stderr",
     "output_type": "stream",
     "text": [
      "No geometries found\n",
      "Object does not have a geometry\n"
     ]
    },
    {
     "name": "stdout",
     "output_type": "stream",
     "text": [
      "  distance = 7.1km\n",
      "  Elevation gain 103m, Elevation loss -464m\n",
      "  N samples = 153\n",
      "____________\n",
      "Move_2018_05_05_07_52_34_Mountaineering_Machamo_Dhole_part1.kml\n",
      "(115, 3)\n",
      "(115, 3)\n",
      "remove unrealistic altitude change shape=(115, 3) --> (115, 3)\n"
     ]
    },
    {
     "name": "stderr",
     "output_type": "stream",
     "text": [
      "No geometries found\n",
      "Object does not have a geometry\n"
     ]
    },
    {
     "name": "stdout",
     "output_type": "stream",
     "text": [
      "  distance = 4.8km\n",
      "  Elevation gain 101m, Elevation loss -472m\n",
      "  N samples = 115\n",
      "____________\n",
      "Move_2018_05_05_10_02_35_Mountaineering_Dhole_NamcheBzaar.kml\n",
      "(288, 3)\n",
      "(286, 3)\n",
      "remove unrealistic altitude change shape=(288, 3) --> (286, 3)\n"
     ]
    },
    {
     "name": "stderr",
     "output_type": "stream",
     "text": [
      "No geometries found\n",
      "Object does not have a geometry\n"
     ]
    },
    {
     "name": "stdout",
     "output_type": "stream",
     "text": [
      "  distance = 11.4km\n",
      "  Elevation gain 499m, Elevation loss -1096m\n",
      "  N samples = 286\n",
      "____________\n",
      "Move_2018_05_07_07_34_55_Mountaineering_NamcheBzaar_Lukla.kml\n",
      "(266, 3)\n",
      "(248, 3)\n",
      "remove unrealistic altitude change shape=(266, 3) --> (248, 3)\n",
      "  distance = 16.7km\n",
      "  Elevation gain 578m, Elevation loss -1186m\n",
      "  N samples = 248\n"
     ]
    }
   ],
   "source": [
    "dfs = []\n",
    "for fnm in kmls:\n",
    "    print(\"____________\")\n",
    "    print(fnm)\n",
    "    df = get_coordinates(dir_move + fnm)\n",
    "\n",
    "    ## clean the data for trekking recorded using phone \n",
    "    if \"Trekking\" in fnm:\n",
    "        for col in df.columns:\n",
    "            df[col] = get_rolling_average(df[col].values, k=5)\n",
    "            \n",
    "    ## remove the unrealistic values\n",
    "    df = remove_unrealistic_alt(df)\n",
    "    \n",
    "    ## add info from calenders\n",
    "    fnm = fnm.split(\"_\")\n",
    "    df[\"date\"]  = fnm[1] + \"-\" + fnm[2] + \"-\" + fnm[3]\n",
    "    df[\"move\"]  = fnm[7]\n",
    "    \n",
    "    ## calculate distance between two points\n",
    "    df = get_distance(df)\n",
    "    \n",
    "    gain, loss = get_alt_change(df[\"altitude\"].values)\n",
    "    df[\"gain\"] , df[\"loss\"] = gain, loss\n",
    "    dfs.append(df)\n",
    "    \n",
    "dfs = pd.concat(dfs)"
   ]
  },
  {
   "cell_type": "code",
   "execution_count": 206,
   "metadata": {
    "scrolled": true
   },
   "outputs": [],
   "source": [
    "dfs[\"date\"] = pd.to_datetime(dfs[\"date\"],format='%Y%m%d')\n",
    "\n",
    "day0 = np.datetime64('2018-04-23')\n",
    "unidate = np.unique(dfs[\"date\"])\n",
    "dfs = dfs.fillna(0)\n",
    "cs,days = [], []\n",
    "for ii , date in enumerate(unidate,1):\n",
    "    dfdate = dfs[\"dist\"].loc[date == dfs[\"date\"].values].values\n",
    "    cstemp = np.cumsum(dfdate)\n",
    "    cstemp[0] = 0\n",
    "    cs.extend(list(cstemp))\n",
    "    Day = (date - np.datetime64('2018-04-23'))/np.timedelta64(1,'D')\n",
    "    days.extend([int(Day)]*len(cstemp))\n",
    "dfs[\"csdist\"] = cs\n",
    "dfs[\"Day\"] = days"
   ]
  },
  {
   "cell_type": "code",
   "execution_count": 197,
   "metadata": {},
   "outputs": [
    {
     "data": {
      "text/plain": [
       "numpy.datetime64('2018-05-07T00:00:00.000000000')"
      ]
     },
     "execution_count": 197,
     "metadata": {},
     "output_type": "execute_result"
    }
   ],
   "source": [
    "date"
   ]
  },
  {
   "cell_type": "code",
   "execution_count": 201,
   "metadata": {},
   "outputs": [
    {
     "data": {
      "text/plain": [
       "14.0"
      ]
     },
     "execution_count": 201,
     "metadata": {},
     "output_type": "execute_result"
    }
   ],
   "source": []
  },
  {
   "cell_type": "code",
   "execution_count": 207,
   "metadata": {},
   "outputs": [
    {
     "data": {
      "text/html": [
       "<div>\n",
       "<style>\n",
       "    .dataframe thead tr:only-child th {\n",
       "        text-align: right;\n",
       "    }\n",
       "\n",
       "    .dataframe thead th {\n",
       "        text-align: left;\n",
       "    }\n",
       "\n",
       "    .dataframe tbody tr th {\n",
       "        vertical-align: top;\n",
       "    }\n",
       "</style>\n",
       "<table border=\"1\" class=\"dataframe\">\n",
       "  <thead>\n",
       "    <tr style=\"text-align: right;\">\n",
       "      <th></th>\n",
       "      <th>lon</th>\n",
       "      <th>lat</th>\n",
       "      <th>altitude</th>\n",
       "      <th>date</th>\n",
       "      <th>move</th>\n",
       "      <th>dist</th>\n",
       "      <th>gain</th>\n",
       "      <th>loss</th>\n",
       "      <th>csdist</th>\n",
       "      <th>Day</th>\n",
       "    </tr>\n",
       "  </thead>\n",
       "  <tbody>\n",
       "    <tr>\n",
       "      <th>3</th>\n",
       "      <td>86.731856</td>\n",
       "      <td>27.688181</td>\n",
       "      <td>2860.899902</td>\n",
       "      <td>2018-04-24</td>\n",
       "      <td>Mountaineering</td>\n",
       "      <td>0.000000</td>\n",
       "      <td>358.099853</td>\n",
       "      <td>-582.699706</td>\n",
       "      <td>0.000000</td>\n",
       "      <td>1</td>\n",
       "    </tr>\n",
       "    <tr>\n",
       "      <th>4</th>\n",
       "      <td>86.731743</td>\n",
       "      <td>27.688181</td>\n",
       "      <td>2858.500000</td>\n",
       "      <td>2018-04-24</td>\n",
       "      <td>Mountaineering</td>\n",
       "      <td>0.011130</td>\n",
       "      <td>358.099853</td>\n",
       "      <td>-582.699706</td>\n",
       "      <td>0.011130</td>\n",
       "      <td>1</td>\n",
       "    </tr>\n",
       "    <tr>\n",
       "      <th>5</th>\n",
       "      <td>86.731222</td>\n",
       "      <td>27.688300</td>\n",
       "      <td>2848.600098</td>\n",
       "      <td>2018-04-24</td>\n",
       "      <td>Mountaineering</td>\n",
       "      <td>0.052994</td>\n",
       "      <td>358.099853</td>\n",
       "      <td>-582.699706</td>\n",
       "      <td>0.064124</td>\n",
       "      <td>1</td>\n",
       "    </tr>\n",
       "    <tr>\n",
       "      <th>8</th>\n",
       "      <td>86.729822</td>\n",
       "      <td>27.689310</td>\n",
       "      <td>2828.100098</td>\n",
       "      <td>2018-04-24</td>\n",
       "      <td>Mountaineering</td>\n",
       "      <td>0.177860</td>\n",
       "      <td>358.099853</td>\n",
       "      <td>-582.699706</td>\n",
       "      <td>0.241984</td>\n",
       "      <td>1</td>\n",
       "    </tr>\n",
       "    <tr>\n",
       "      <th>9</th>\n",
       "      <td>86.729306</td>\n",
       "      <td>27.689903</td>\n",
       "      <td>2823.500000</td>\n",
       "      <td>2018-04-24</td>\n",
       "      <td>Mountaineering</td>\n",
       "      <td>0.083267</td>\n",
       "      <td>358.099853</td>\n",
       "      <td>-582.699706</td>\n",
       "      <td>0.325252</td>\n",
       "      <td>1</td>\n",
       "    </tr>\n",
       "  </tbody>\n",
       "</table>\n",
       "</div>"
      ],
      "text/plain": [
       "         lon        lat     altitude       date            move      dist  \\\n",
       "3  86.731856  27.688181  2860.899902 2018-04-24  Mountaineering  0.000000   \n",
       "4  86.731743  27.688181  2858.500000 2018-04-24  Mountaineering  0.011130   \n",
       "5  86.731222  27.688300  2848.600098 2018-04-24  Mountaineering  0.052994   \n",
       "8  86.729822  27.689310  2828.100098 2018-04-24  Mountaineering  0.177860   \n",
       "9  86.729306  27.689903  2823.500000 2018-04-24  Mountaineering  0.083267   \n",
       "\n",
       "         gain        loss    csdist  Day  \n",
       "3  358.099853 -582.699706  0.000000    1  \n",
       "4  358.099853 -582.699706  0.011130    1  \n",
       "5  358.099853 -582.699706  0.064124    1  \n",
       "8  358.099853 -582.699706  0.241984    1  \n",
       "9  358.099853 -582.699706  0.325252    1  "
      ]
     },
     "execution_count": 207,
     "metadata": {},
     "output_type": "execute_result"
    }
   ],
   "source": [
    "dfs.head(5)"
   ]
  },
  {
   "cell_type": "code",
   "execution_count": 208,
   "metadata": {},
   "outputs": [
    {
     "data": {
      "text/html": [
       "<div>\n",
       "<style>\n",
       "    .dataframe thead tr:only-child th {\n",
       "        text-align: right;\n",
       "    }\n",
       "\n",
       "    .dataframe thead th {\n",
       "        text-align: left;\n",
       "    }\n",
       "\n",
       "    .dataframe tbody tr th {\n",
       "        vertical-align: top;\n",
       "    }\n",
       "</style>\n",
       "<table border=\"1\" class=\"dataframe\">\n",
       "  <thead>\n",
       "    <tr style=\"text-align: right;\">\n",
       "      <th></th>\n",
       "      <th>lon</th>\n",
       "      <th>lat</th>\n",
       "      <th>altitude</th>\n",
       "      <th>date</th>\n",
       "      <th>move</th>\n",
       "      <th>dist</th>\n",
       "      <th>gain</th>\n",
       "      <th>loss</th>\n",
       "      <th>csdist</th>\n",
       "      <th>Day</th>\n",
       "    </tr>\n",
       "  </thead>\n",
       "  <tbody>\n",
       "    <tr>\n",
       "      <th>261</th>\n",
       "      <td>86.729075</td>\n",
       "      <td>27.690058</td>\n",
       "      <td>2872.000000</td>\n",
       "      <td>2018-05-07</td>\n",
       "      <td>Mountaineering</td>\n",
       "      <td>0.075092</td>\n",
       "      <td>578.389538</td>\n",
       "      <td>-1186.321137</td>\n",
       "      <td>16.474535</td>\n",
       "      <td>14</td>\n",
       "    </tr>\n",
       "    <tr>\n",
       "      <th>262</th>\n",
       "      <td>86.729570</td>\n",
       "      <td>27.689688</td>\n",
       "      <td>2871.000000</td>\n",
       "      <td>2018-05-07</td>\n",
       "      <td>Mountaineering</td>\n",
       "      <td>0.063801</td>\n",
       "      <td>578.389538</td>\n",
       "      <td>-1186.321137</td>\n",
       "      <td>16.538336</td>\n",
       "      <td>14</td>\n",
       "    </tr>\n",
       "    <tr>\n",
       "      <th>263</th>\n",
       "      <td>86.729966</td>\n",
       "      <td>27.689244</td>\n",
       "      <td>2871.254200</td>\n",
       "      <td>2018-05-07</td>\n",
       "      <td>Mountaineering</td>\n",
       "      <td>0.062930</td>\n",
       "      <td>578.389538</td>\n",
       "      <td>-1186.321137</td>\n",
       "      <td>16.601266</td>\n",
       "      <td>14</td>\n",
       "    </tr>\n",
       "    <tr>\n",
       "      <th>264</th>\n",
       "      <td>86.730447</td>\n",
       "      <td>27.688892</td>\n",
       "      <td>2870.000000</td>\n",
       "      <td>2018-05-07</td>\n",
       "      <td>Mountaineering</td>\n",
       "      <td>0.061460</td>\n",
       "      <td>578.389538</td>\n",
       "      <td>-1186.321137</td>\n",
       "      <td>16.662726</td>\n",
       "      <td>14</td>\n",
       "    </tr>\n",
       "    <tr>\n",
       "      <th>265</th>\n",
       "      <td>86.730907</td>\n",
       "      <td>27.688873</td>\n",
       "      <td>2869.068401</td>\n",
       "      <td>2018-05-07</td>\n",
       "      <td>Mountaineering</td>\n",
       "      <td>0.045356</td>\n",
       "      <td>578.389538</td>\n",
       "      <td>-1186.321137</td>\n",
       "      <td>16.708082</td>\n",
       "      <td>14</td>\n",
       "    </tr>\n",
       "  </tbody>\n",
       "</table>\n",
       "</div>"
      ],
      "text/plain": [
       "           lon        lat     altitude       date            move      dist  \\\n",
       "261  86.729075  27.690058  2872.000000 2018-05-07  Mountaineering  0.075092   \n",
       "262  86.729570  27.689688  2871.000000 2018-05-07  Mountaineering  0.063801   \n",
       "263  86.729966  27.689244  2871.254200 2018-05-07  Mountaineering  0.062930   \n",
       "264  86.730447  27.688892  2870.000000 2018-05-07  Mountaineering  0.061460   \n",
       "265  86.730907  27.688873  2869.068401 2018-05-07  Mountaineering  0.045356   \n",
       "\n",
       "           gain         loss     csdist  Day  \n",
       "261  578.389538 -1186.321137  16.474535   14  \n",
       "262  578.389538 -1186.321137  16.538336   14  \n",
       "263  578.389538 -1186.321137  16.601266   14  \n",
       "264  578.389538 -1186.321137  16.662726   14  \n",
       "265  578.389538 -1186.321137  16.708082   14  "
      ]
     },
     "execution_count": 208,
     "metadata": {},
     "output_type": "execute_result"
    }
   ],
   "source": [
    "dfs.tail(5)"
   ]
  },
  {
   "cell_type": "code",
   "execution_count": 209,
   "metadata": {
    "collapsed": true
   },
   "outputs": [],
   "source": [
    "dfs.to_csv(dir_move + \"trekking.csv\")"
   ]
  }
 ],
 "metadata": {
  "kernelspec": {
   "display_name": "Python 3",
   "language": "python",
   "name": "python3"
  },
  "language_info": {
   "codemirror_mode": {
    "name": "ipython",
    "version": 3
   },
   "file_extension": ".py",
   "mimetype": "text/x-python",
   "name": "python",
   "nbconvert_exporter": "python",
   "pygments_lexer": "ipython3",
   "version": "3.6.3"
  }
 },
 "nbformat": 4,
 "nbformat_minor": 2
}
